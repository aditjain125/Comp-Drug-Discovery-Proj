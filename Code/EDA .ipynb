{
 "cells": [
  {
   "cell_type": "code",
   "execution_count": 1,
   "metadata": {},
   "outputs": [],
   "source": [
    "import numpy as np\n",
    "from rdkit import Chem\n",
    "from rdkit.Chem import Descriptors, Lipinski\n",
    "import pandas as pd"
   ]
  },
  {
   "cell_type": "markdown",
   "metadata": {},
   "source": [
    "## Feature Engineering: Calculate Lipinksi Descriptors \n",
    "\n",
    "Christopher Lipinksi found a rule-of-thumb for evaluating the druglikeness of compounds. Lipinski analyzed all orally active FDA-approved drugs in the formulation of what is to be known as the Rule-of-Five or Lipinski's Rule. The satisfaction of the rules contribute to a compound's pharmokinetic profile consisting of Absorption, Distribution, Metabolism, Excretion (ADME). \n",
    "\n",
    "The Lipinski's Rule stated the following:\n",
    "\n",
    "- Molecular weight < 500 Dalton\n",
    "- Octanol-water partition coefficient (LogP) < 5\n",
    "- Hydrogen bond donors < 5\n",
    "- Hydrogen bond acceptors < 10"
   ]
  },
  {
   "cell_type": "code",
   "execution_count": 2,
   "metadata": {
    "scrolled": true
   },
   "outputs": [
    {
     "data": {
      "text/plain": [
       "0              CC12CCC(C1)C(C)(C)C2NS(=O)(=O)c1ccc(F)cc1\n",
       "1        CC12CC[C@@H](C1)C(C)(C)[C@@H]2NS(=O)(=O)c1cccs1\n",
       "2      CC12CC[C@@H](C1)C(C)(C)[C@@H]2NS(=O)(=O)c1ccc(...\n",
       "3      CC12CC[C@@H](C1)C(C)(C)[C@@H]2NS(=O)(=O)c1ccc(...\n",
       "4      CC12CC[C@@H](C1)C(C)(C)[C@@H]2NS(=O)(=O)c1ccc(...\n",
       "                             ...                        \n",
       "857                       COc1ccccc1/C=C/c1cc(=O)c(O)co1\n",
       "858                        O=c1cc(/C=C/c2ccc(O)cc2)occ1O\n",
       "859                          O=c1cc(/C=C/c2ccccc2O)occ1O\n",
       "860                     O=c1cc(/C=C/c2cc(O)cc(O)c2)occ1O\n",
       "861    O=C(/C=C/c1ccc(O)c(O)c1)NCCCNC(=O)/C=C/c1ccc(O...\n",
       "Name: canonical_smiles, Length: 862, dtype: object"
      ]
     },
     "execution_count": 2,
     "metadata": {},
     "output_type": "execute_result"
    }
   ],
   "source": [
    "df = pd.read_csv('bioactivity_preprocessed_data.csv')\n",
    "df.canonical_smiles"
   ]
  },
  {
   "cell_type": "code",
   "execution_count": 3,
   "metadata": {
    "scrolled": true
   },
   "outputs": [
    {
     "data": {
      "text/plain": [
       "Index(['index', 'molecule_chembl_id', 'canonical_smiles', 'standard_value',\n",
       "       'class'],\n",
       "      dtype='object')"
      ]
     },
     "execution_count": 3,
     "metadata": {},
     "output_type": "execute_result"
    }
   ],
   "source": [
    "df.columns"
   ]
  },
  {
   "cell_type": "code",
   "execution_count": 4,
   "metadata": {},
   "outputs": [],
   "source": [
    "# Inspired by: https://codeocean.com/explore/capsules?query=tag:data-curation\n",
    "\n",
    "def lipinski(smiles, verbose=False):\n",
    "    moldata= []\n",
    "    for elem in smiles:\n",
    "        mol=Chem.MolFromSmiles(elem) \n",
    "        moldata.append(mol)\n",
    "       \n",
    "    baseData= np.arange(1,1)\n",
    "    i=0  \n",
    "    for mol in moldata:        \n",
    "       \n",
    "        desc_MolWt = Descriptors.MolWt(mol)\n",
    "        desc_MolLogP = Descriptors.MolLogP(mol)\n",
    "        desc_NumHDonors = Lipinski.NumHDonors(mol)\n",
    "        desc_NumHAcceptors = Lipinski.NumHAcceptors(mol)\n",
    "           \n",
    "        row = np.array([desc_MolWt,\n",
    "                        desc_MolLogP,\n",
    "                        desc_NumHDonors,\n",
    "                        desc_NumHAcceptors])   \n",
    "    \n",
    "        if(i==0):\n",
    "            baseData=row\n",
    "        else:\n",
    "            baseData=np.vstack([baseData, row])\n",
    "        i=i+1      \n",
    "    \n",
    "    columnNames=[\"MW\",\"LogP\",\"NumHDonors\",\"NumHAcceptors\"]   \n",
    "    descriptors = pd.DataFrame(data=baseData,columns=columnNames)\n",
    "    \n",
    "    return descriptors"
   ]
  },
  {
   "cell_type": "code",
   "execution_count": 5,
   "metadata": {
    "scrolled": false
   },
   "outputs": [],
   "source": [
    "df_lipinski = lipinski(df.canonical_smiles)"
   ]
  },
  {
   "cell_type": "code",
   "execution_count": 6,
   "metadata": {
    "scrolled": false
   },
   "outputs": [
    {
     "data": {
      "text/html": [
       "<div>\n",
       "<style scoped>\n",
       "    .dataframe tbody tr th:only-of-type {\n",
       "        vertical-align: middle;\n",
       "    }\n",
       "\n",
       "    .dataframe tbody tr th {\n",
       "        vertical-align: top;\n",
       "    }\n",
       "\n",
       "    .dataframe thead th {\n",
       "        text-align: right;\n",
       "    }\n",
       "</style>\n",
       "<table border=\"1\" class=\"dataframe\">\n",
       "  <thead>\n",
       "    <tr style=\"text-align: right;\">\n",
       "      <th></th>\n",
       "      <th>MW</th>\n",
       "      <th>LogP</th>\n",
       "      <th>NumHDonors</th>\n",
       "      <th>NumHAcceptors</th>\n",
       "    </tr>\n",
       "  </thead>\n",
       "  <tbody>\n",
       "    <tr>\n",
       "      <th>0</th>\n",
       "      <td>311.422</td>\n",
       "      <td>3.3188</td>\n",
       "      <td>1.0</td>\n",
       "      <td>2.0</td>\n",
       "    </tr>\n",
       "    <tr>\n",
       "      <th>1</th>\n",
       "      <td>299.461</td>\n",
       "      <td>3.2412</td>\n",
       "      <td>1.0</td>\n",
       "      <td>3.0</td>\n",
       "    </tr>\n",
       "    <tr>\n",
       "      <th>2</th>\n",
       "      <td>311.422</td>\n",
       "      <td>3.3188</td>\n",
       "      <td>1.0</td>\n",
       "      <td>2.0</td>\n",
       "    </tr>\n",
       "    <tr>\n",
       "      <th>3</th>\n",
       "      <td>327.877</td>\n",
       "      <td>3.8331</td>\n",
       "      <td>1.0</td>\n",
       "      <td>2.0</td>\n",
       "    </tr>\n",
       "    <tr>\n",
       "      <th>4</th>\n",
       "      <td>372.328</td>\n",
       "      <td>3.9422</td>\n",
       "      <td>1.0</td>\n",
       "      <td>2.0</td>\n",
       "    </tr>\n",
       "    <tr>\n",
       "      <th>...</th>\n",
       "      <td>...</td>\n",
       "      <td>...</td>\n",
       "      <td>...</td>\n",
       "      <td>...</td>\n",
       "    </tr>\n",
       "    <tr>\n",
       "      <th>857</th>\n",
       "      <td>244.246</td>\n",
       "      <td>2.5244</td>\n",
       "      <td>1.0</td>\n",
       "      <td>4.0</td>\n",
       "    </tr>\n",
       "    <tr>\n",
       "      <th>858</th>\n",
       "      <td>230.219</td>\n",
       "      <td>2.2214</td>\n",
       "      <td>2.0</td>\n",
       "      <td>4.0</td>\n",
       "    </tr>\n",
       "    <tr>\n",
       "      <th>859</th>\n",
       "      <td>230.219</td>\n",
       "      <td>2.2214</td>\n",
       "      <td>2.0</td>\n",
       "      <td>4.0</td>\n",
       "    </tr>\n",
       "    <tr>\n",
       "      <th>860</th>\n",
       "      <td>246.218</td>\n",
       "      <td>1.9270</td>\n",
       "      <td>3.0</td>\n",
       "      <td>5.0</td>\n",
       "    </tr>\n",
       "    <tr>\n",
       "      <th>861</th>\n",
       "      <td>398.415</td>\n",
       "      <td>1.8581</td>\n",
       "      <td>6.0</td>\n",
       "      <td>6.0</td>\n",
       "    </tr>\n",
       "  </tbody>\n",
       "</table>\n",
       "<p>862 rows × 4 columns</p>\n",
       "</div>"
      ],
      "text/plain": [
       "          MW    LogP  NumHDonors  NumHAcceptors\n",
       "0    311.422  3.3188         1.0            2.0\n",
       "1    299.461  3.2412         1.0            3.0\n",
       "2    311.422  3.3188         1.0            2.0\n",
       "3    327.877  3.8331         1.0            2.0\n",
       "4    372.328  3.9422         1.0            2.0\n",
       "..       ...     ...         ...            ...\n",
       "857  244.246  2.5244         1.0            4.0\n",
       "858  230.219  2.2214         2.0            4.0\n",
       "859  230.219  2.2214         2.0            4.0\n",
       "860  246.218  1.9270         3.0            5.0\n",
       "861  398.415  1.8581         6.0            6.0\n",
       "\n",
       "[862 rows x 4 columns]"
      ]
     },
     "execution_count": 6,
     "metadata": {},
     "output_type": "execute_result"
    }
   ],
   "source": [
    "# New database with lipinski descriptors of our compounds:\n",
    "df_lipinski"
   ]
  },
  {
   "cell_type": "code",
   "execution_count": 7,
   "metadata": {},
   "outputs": [
    {
     "data": {
      "text/html": [
       "<div>\n",
       "<style scoped>\n",
       "    .dataframe tbody tr th:only-of-type {\n",
       "        vertical-align: middle;\n",
       "    }\n",
       "\n",
       "    .dataframe tbody tr th {\n",
       "        vertical-align: top;\n",
       "    }\n",
       "\n",
       "    .dataframe thead th {\n",
       "        text-align: right;\n",
       "    }\n",
       "</style>\n",
       "<table border=\"1\" class=\"dataframe\">\n",
       "  <thead>\n",
       "    <tr style=\"text-align: right;\">\n",
       "      <th></th>\n",
       "      <th>index</th>\n",
       "      <th>molecule_chembl_id</th>\n",
       "      <th>canonical_smiles</th>\n",
       "      <th>standard_value</th>\n",
       "      <th>class</th>\n",
       "    </tr>\n",
       "  </thead>\n",
       "  <tbody>\n",
       "    <tr>\n",
       "      <th>0</th>\n",
       "      <td>0</td>\n",
       "      <td>CHEMBL311039</td>\n",
       "      <td>CC12CCC(C1)C(C)(C)C2NS(=O)(=O)c1ccc(F)cc1</td>\n",
       "      <td>5000.0</td>\n",
       "      <td>intermediate</td>\n",
       "    </tr>\n",
       "    <tr>\n",
       "      <th>1</th>\n",
       "      <td>1</td>\n",
       "      <td>CHEMBL450926</td>\n",
       "      <td>CC12CC[C@@H](C1)C(C)(C)[C@@H]2NS(=O)(=O)c1cccs1</td>\n",
       "      <td>2700.0</td>\n",
       "      <td>intermediate</td>\n",
       "    </tr>\n",
       "    <tr>\n",
       "      <th>2</th>\n",
       "      <td>2</td>\n",
       "      <td>CHEMBL310242</td>\n",
       "      <td>CC12CC[C@@H](C1)C(C)(C)[C@@H]2NS(=O)(=O)c1ccc(...</td>\n",
       "      <td>1800.0</td>\n",
       "      <td>intermediate</td>\n",
       "    </tr>\n",
       "    <tr>\n",
       "      <th>3</th>\n",
       "      <td>3</td>\n",
       "      <td>CHEMBL74874</td>\n",
       "      <td>CC12CC[C@@H](C1)C(C)(C)[C@@H]2NS(=O)(=O)c1ccc(...</td>\n",
       "      <td>11000.0</td>\n",
       "      <td>inactive</td>\n",
       "    </tr>\n",
       "    <tr>\n",
       "      <th>4</th>\n",
       "      <td>4</td>\n",
       "      <td>CHEMBL75183</td>\n",
       "      <td>CC12CC[C@@H](C1)C(C)(C)[C@@H]2NS(=O)(=O)c1ccc(...</td>\n",
       "      <td>10000.0</td>\n",
       "      <td>inactive</td>\n",
       "    </tr>\n",
       "    <tr>\n",
       "      <th>...</th>\n",
       "      <td>...</td>\n",
       "      <td>...</td>\n",
       "      <td>...</td>\n",
       "      <td>...</td>\n",
       "      <td>...</td>\n",
       "    </tr>\n",
       "    <tr>\n",
       "      <th>857</th>\n",
       "      <td>1131</td>\n",
       "      <td>CHEMBL4286002</td>\n",
       "      <td>COc1ccccc1/C=C/c1cc(=O)c(O)co1</td>\n",
       "      <td>7930.0</td>\n",
       "      <td>intermediate</td>\n",
       "    </tr>\n",
       "    <tr>\n",
       "      <th>858</th>\n",
       "      <td>1133</td>\n",
       "      <td>CHEMBL4287929</td>\n",
       "      <td>O=c1cc(/C=C/c2ccc(O)cc2)occ1O</td>\n",
       "      <td>7200.0</td>\n",
       "      <td>intermediate</td>\n",
       "    </tr>\n",
       "    <tr>\n",
       "      <th>859</th>\n",
       "      <td>1134</td>\n",
       "      <td>CHEMBL4284208</td>\n",
       "      <td>O=c1cc(/C=C/c2ccccc2O)occ1O</td>\n",
       "      <td>8290.0</td>\n",
       "      <td>intermediate</td>\n",
       "    </tr>\n",
       "    <tr>\n",
       "      <th>860</th>\n",
       "      <td>1135</td>\n",
       "      <td>CHEMBL4294830</td>\n",
       "      <td>O=c1cc(/C=C/c2cc(O)cc(O)c2)occ1O</td>\n",
       "      <td>17950.0</td>\n",
       "      <td>inactive</td>\n",
       "    </tr>\n",
       "    <tr>\n",
       "      <th>861</th>\n",
       "      <td>1139</td>\n",
       "      <td>CHEMBL197478</td>\n",
       "      <td>O=C(/C=C/c1ccc(O)c(O)c1)NCCCNC(=O)/C=C/c1ccc(O...</td>\n",
       "      <td>4200.0</td>\n",
       "      <td>intermediate</td>\n",
       "    </tr>\n",
       "  </tbody>\n",
       "</table>\n",
       "<p>862 rows × 5 columns</p>\n",
       "</div>"
      ],
      "text/plain": [
       "     index molecule_chembl_id  \\\n",
       "0        0       CHEMBL311039   \n",
       "1        1       CHEMBL450926   \n",
       "2        2       CHEMBL310242   \n",
       "3        3        CHEMBL74874   \n",
       "4        4        CHEMBL75183   \n",
       "..     ...                ...   \n",
       "857   1131      CHEMBL4286002   \n",
       "858   1133      CHEMBL4287929   \n",
       "859   1134      CHEMBL4284208   \n",
       "860   1135      CHEMBL4294830   \n",
       "861   1139       CHEMBL197478   \n",
       "\n",
       "                                      canonical_smiles  standard_value  \\\n",
       "0            CC12CCC(C1)C(C)(C)C2NS(=O)(=O)c1ccc(F)cc1          5000.0   \n",
       "1      CC12CC[C@@H](C1)C(C)(C)[C@@H]2NS(=O)(=O)c1cccs1          2700.0   \n",
       "2    CC12CC[C@@H](C1)C(C)(C)[C@@H]2NS(=O)(=O)c1ccc(...          1800.0   \n",
       "3    CC12CC[C@@H](C1)C(C)(C)[C@@H]2NS(=O)(=O)c1ccc(...         11000.0   \n",
       "4    CC12CC[C@@H](C1)C(C)(C)[C@@H]2NS(=O)(=O)c1ccc(...         10000.0   \n",
       "..                                                 ...             ...   \n",
       "857                     COc1ccccc1/C=C/c1cc(=O)c(O)co1          7930.0   \n",
       "858                      O=c1cc(/C=C/c2ccc(O)cc2)occ1O          7200.0   \n",
       "859                        O=c1cc(/C=C/c2ccccc2O)occ1O          8290.0   \n",
       "860                   O=c1cc(/C=C/c2cc(O)cc(O)c2)occ1O         17950.0   \n",
       "861  O=C(/C=C/c1ccc(O)c(O)c1)NCCCNC(=O)/C=C/c1ccc(O...          4200.0   \n",
       "\n",
       "            class  \n",
       "0    intermediate  \n",
       "1    intermediate  \n",
       "2    intermediate  \n",
       "3        inactive  \n",
       "4        inactive  \n",
       "..            ...  \n",
       "857  intermediate  \n",
       "858  intermediate  \n",
       "859  intermediate  \n",
       "860      inactive  \n",
       "861  intermediate  \n",
       "\n",
       "[862 rows x 5 columns]"
      ]
     },
     "execution_count": 7,
     "metadata": {},
     "output_type": "execute_result"
    }
   ],
   "source": [
    "df"
   ]
  },
  {
   "cell_type": "markdown",
   "metadata": {},
   "source": [
    "### Combine the two dataframes"
   ]
  },
  {
   "cell_type": "code",
   "execution_count": 8,
   "metadata": {},
   "outputs": [
    {
     "data": {
      "text/html": [
       "<div>\n",
       "<style scoped>\n",
       "    .dataframe tbody tr th:only-of-type {\n",
       "        vertical-align: middle;\n",
       "    }\n",
       "\n",
       "    .dataframe tbody tr th {\n",
       "        vertical-align: top;\n",
       "    }\n",
       "\n",
       "    .dataframe thead th {\n",
       "        text-align: right;\n",
       "    }\n",
       "</style>\n",
       "<table border=\"1\" class=\"dataframe\">\n",
       "  <thead>\n",
       "    <tr style=\"text-align: right;\">\n",
       "      <th></th>\n",
       "      <th>index</th>\n",
       "      <th>molecule_chembl_id</th>\n",
       "      <th>canonical_smiles</th>\n",
       "      <th>standard_value</th>\n",
       "      <th>class</th>\n",
       "      <th>MW</th>\n",
       "      <th>LogP</th>\n",
       "      <th>NumHDonors</th>\n",
       "      <th>NumHAcceptors</th>\n",
       "    </tr>\n",
       "  </thead>\n",
       "  <tbody>\n",
       "    <tr>\n",
       "      <th>0</th>\n",
       "      <td>0</td>\n",
       "      <td>CHEMBL311039</td>\n",
       "      <td>CC12CCC(C1)C(C)(C)C2NS(=O)(=O)c1ccc(F)cc1</td>\n",
       "      <td>5000.0</td>\n",
       "      <td>intermediate</td>\n",
       "      <td>311.422</td>\n",
       "      <td>3.3188</td>\n",
       "      <td>1.0</td>\n",
       "      <td>2.0</td>\n",
       "    </tr>\n",
       "    <tr>\n",
       "      <th>1</th>\n",
       "      <td>1</td>\n",
       "      <td>CHEMBL450926</td>\n",
       "      <td>CC12CC[C@@H](C1)C(C)(C)[C@@H]2NS(=O)(=O)c1cccs1</td>\n",
       "      <td>2700.0</td>\n",
       "      <td>intermediate</td>\n",
       "      <td>299.461</td>\n",
       "      <td>3.2412</td>\n",
       "      <td>1.0</td>\n",
       "      <td>3.0</td>\n",
       "    </tr>\n",
       "    <tr>\n",
       "      <th>2</th>\n",
       "      <td>2</td>\n",
       "      <td>CHEMBL310242</td>\n",
       "      <td>CC12CC[C@@H](C1)C(C)(C)[C@@H]2NS(=O)(=O)c1ccc(...</td>\n",
       "      <td>1800.0</td>\n",
       "      <td>intermediate</td>\n",
       "      <td>311.422</td>\n",
       "      <td>3.3188</td>\n",
       "      <td>1.0</td>\n",
       "      <td>2.0</td>\n",
       "    </tr>\n",
       "    <tr>\n",
       "      <th>3</th>\n",
       "      <td>3</td>\n",
       "      <td>CHEMBL74874</td>\n",
       "      <td>CC12CC[C@@H](C1)C(C)(C)[C@@H]2NS(=O)(=O)c1ccc(...</td>\n",
       "      <td>11000.0</td>\n",
       "      <td>inactive</td>\n",
       "      <td>327.877</td>\n",
       "      <td>3.8331</td>\n",
       "      <td>1.0</td>\n",
       "      <td>2.0</td>\n",
       "    </tr>\n",
       "    <tr>\n",
       "      <th>4</th>\n",
       "      <td>4</td>\n",
       "      <td>CHEMBL75183</td>\n",
       "      <td>CC12CC[C@@H](C1)C(C)(C)[C@@H]2NS(=O)(=O)c1ccc(...</td>\n",
       "      <td>10000.0</td>\n",
       "      <td>inactive</td>\n",
       "      <td>372.328</td>\n",
       "      <td>3.9422</td>\n",
       "      <td>1.0</td>\n",
       "      <td>2.0</td>\n",
       "    </tr>\n",
       "    <tr>\n",
       "      <th>...</th>\n",
       "      <td>...</td>\n",
       "      <td>...</td>\n",
       "      <td>...</td>\n",
       "      <td>...</td>\n",
       "      <td>...</td>\n",
       "      <td>...</td>\n",
       "      <td>...</td>\n",
       "      <td>...</td>\n",
       "      <td>...</td>\n",
       "    </tr>\n",
       "    <tr>\n",
       "      <th>857</th>\n",
       "      <td>1131</td>\n",
       "      <td>CHEMBL4286002</td>\n",
       "      <td>COc1ccccc1/C=C/c1cc(=O)c(O)co1</td>\n",
       "      <td>7930.0</td>\n",
       "      <td>intermediate</td>\n",
       "      <td>244.246</td>\n",
       "      <td>2.5244</td>\n",
       "      <td>1.0</td>\n",
       "      <td>4.0</td>\n",
       "    </tr>\n",
       "    <tr>\n",
       "      <th>858</th>\n",
       "      <td>1133</td>\n",
       "      <td>CHEMBL4287929</td>\n",
       "      <td>O=c1cc(/C=C/c2ccc(O)cc2)occ1O</td>\n",
       "      <td>7200.0</td>\n",
       "      <td>intermediate</td>\n",
       "      <td>230.219</td>\n",
       "      <td>2.2214</td>\n",
       "      <td>2.0</td>\n",
       "      <td>4.0</td>\n",
       "    </tr>\n",
       "    <tr>\n",
       "      <th>859</th>\n",
       "      <td>1134</td>\n",
       "      <td>CHEMBL4284208</td>\n",
       "      <td>O=c1cc(/C=C/c2ccccc2O)occ1O</td>\n",
       "      <td>8290.0</td>\n",
       "      <td>intermediate</td>\n",
       "      <td>230.219</td>\n",
       "      <td>2.2214</td>\n",
       "      <td>2.0</td>\n",
       "      <td>4.0</td>\n",
       "    </tr>\n",
       "    <tr>\n",
       "      <th>860</th>\n",
       "      <td>1135</td>\n",
       "      <td>CHEMBL4294830</td>\n",
       "      <td>O=c1cc(/C=C/c2cc(O)cc(O)c2)occ1O</td>\n",
       "      <td>17950.0</td>\n",
       "      <td>inactive</td>\n",
       "      <td>246.218</td>\n",
       "      <td>1.9270</td>\n",
       "      <td>3.0</td>\n",
       "      <td>5.0</td>\n",
       "    </tr>\n",
       "    <tr>\n",
       "      <th>861</th>\n",
       "      <td>1139</td>\n",
       "      <td>CHEMBL197478</td>\n",
       "      <td>O=C(/C=C/c1ccc(O)c(O)c1)NCCCNC(=O)/C=C/c1ccc(O...</td>\n",
       "      <td>4200.0</td>\n",
       "      <td>intermediate</td>\n",
       "      <td>398.415</td>\n",
       "      <td>1.8581</td>\n",
       "      <td>6.0</td>\n",
       "      <td>6.0</td>\n",
       "    </tr>\n",
       "  </tbody>\n",
       "</table>\n",
       "<p>862 rows × 9 columns</p>\n",
       "</div>"
      ],
      "text/plain": [
       "     index molecule_chembl_id  \\\n",
       "0        0       CHEMBL311039   \n",
       "1        1       CHEMBL450926   \n",
       "2        2       CHEMBL310242   \n",
       "3        3        CHEMBL74874   \n",
       "4        4        CHEMBL75183   \n",
       "..     ...                ...   \n",
       "857   1131      CHEMBL4286002   \n",
       "858   1133      CHEMBL4287929   \n",
       "859   1134      CHEMBL4284208   \n",
       "860   1135      CHEMBL4294830   \n",
       "861   1139       CHEMBL197478   \n",
       "\n",
       "                                      canonical_smiles  standard_value  \\\n",
       "0            CC12CCC(C1)C(C)(C)C2NS(=O)(=O)c1ccc(F)cc1          5000.0   \n",
       "1      CC12CC[C@@H](C1)C(C)(C)[C@@H]2NS(=O)(=O)c1cccs1          2700.0   \n",
       "2    CC12CC[C@@H](C1)C(C)(C)[C@@H]2NS(=O)(=O)c1ccc(...          1800.0   \n",
       "3    CC12CC[C@@H](C1)C(C)(C)[C@@H]2NS(=O)(=O)c1ccc(...         11000.0   \n",
       "4    CC12CC[C@@H](C1)C(C)(C)[C@@H]2NS(=O)(=O)c1ccc(...         10000.0   \n",
       "..                                                 ...             ...   \n",
       "857                     COc1ccccc1/C=C/c1cc(=O)c(O)co1          7930.0   \n",
       "858                      O=c1cc(/C=C/c2ccc(O)cc2)occ1O          7200.0   \n",
       "859                        O=c1cc(/C=C/c2ccccc2O)occ1O          8290.0   \n",
       "860                   O=c1cc(/C=C/c2cc(O)cc(O)c2)occ1O         17950.0   \n",
       "861  O=C(/C=C/c1ccc(O)c(O)c1)NCCCNC(=O)/C=C/c1ccc(O...          4200.0   \n",
       "\n",
       "            class       MW    LogP  NumHDonors  NumHAcceptors  \n",
       "0    intermediate  311.422  3.3188         1.0            2.0  \n",
       "1    intermediate  299.461  3.2412         1.0            3.0  \n",
       "2    intermediate  311.422  3.3188         1.0            2.0  \n",
       "3        inactive  327.877  3.8331         1.0            2.0  \n",
       "4        inactive  372.328  3.9422         1.0            2.0  \n",
       "..            ...      ...     ...         ...            ...  \n",
       "857  intermediate  244.246  2.5244         1.0            4.0  \n",
       "858  intermediate  230.219  2.2214         2.0            4.0  \n",
       "859  intermediate  230.219  2.2214         2.0            4.0  \n",
       "860      inactive  246.218  1.9270         3.0            5.0  \n",
       "861  intermediate  398.415  1.8581         6.0            6.0  \n",
       "\n",
       "[862 rows x 9 columns]"
      ]
     },
     "execution_count": 8,
     "metadata": {},
     "output_type": "execute_result"
    }
   ],
   "source": [
    "df_combined = pd.concat([df, df_lipinski], axis = 1)\n",
    "df_combined"
   ]
  },
  {
   "cell_type": "markdown",
   "metadata": {},
   "source": [
    "### Normalize the IC50 values under the 'standard value' columns. \n",
    "\n",
    "To do this, we will take the -log of IC50 values to get the pIC50 values of each compound. The following function will first convert the IC50 values from nM to M. Then, it takes the -log10 of the IC50 value to create a pIC50 column and replace the 'standard value' column with it. "
   ]
  },
  {
   "cell_type": "code",
   "execution_count": 9,
   "metadata": {},
   "outputs": [],
   "source": [
    "# https://github.com/chaninlab/estrogen-receptor-alpha-qsar/blob/master/02_ER_alpha_RO5.ipynb\n",
    "\n",
    "import numpy as np\n",
    "\n",
    "def pIC50(input):\n",
    "    pIC50 = []\n",
    "\n",
    "    for i in input['standard_value_norm']:\n",
    "        molar = i*(10**-9) # Converts nM to M\n",
    "        pIC50.append(-np.log10(molar))\n",
    "\n",
    "    input['pIC50'] = pIC50\n",
    "    x = input.drop('standard_value_norm', 1)\n",
    "        \n",
    "    return x"
   ]
  },
  {
   "cell_type": "code",
   "execution_count": 10,
   "metadata": {
    "scrolled": true
   },
   "outputs": [
    {
     "data": {
      "text/plain": [
       "count       862.000000\n",
       "mean      20051.511218\n",
       "std       58765.079219\n",
       "min          -1.000000\n",
       "25%         100.000000\n",
       "50%        2975.000000\n",
       "75%       15000.000000\n",
       "max      800000.000000\n",
       "Name: standard_value, dtype: float64"
      ]
     },
     "execution_count": 10,
     "metadata": {},
     "output_type": "execute_result"
    }
   ],
   "source": [
    "df_combined.standard_value.describe()"
   ]
  },
  {
   "cell_type": "code",
   "execution_count": 11,
   "metadata": {},
   "outputs": [],
   "source": [
    "def norm_value(input):\n",
    "    norm = []\n",
    "\n",
    "    for i in input['standard_value']:\n",
    "        if i > 100000000:\n",
    "          i = 100000000\n",
    "        norm.append(i)\n",
    "\n",
    "    input['standard_value_norm'] = norm\n",
    "    x = input.drop('standard_value', 1)\n",
    "        \n",
    "    return x"
   ]
  },
  {
   "cell_type": "code",
   "execution_count": 12,
   "metadata": {},
   "outputs": [
    {
     "data": {
      "text/html": [
       "<div>\n",
       "<style scoped>\n",
       "    .dataframe tbody tr th:only-of-type {\n",
       "        vertical-align: middle;\n",
       "    }\n",
       "\n",
       "    .dataframe tbody tr th {\n",
       "        vertical-align: top;\n",
       "    }\n",
       "\n",
       "    .dataframe thead th {\n",
       "        text-align: right;\n",
       "    }\n",
       "</style>\n",
       "<table border=\"1\" class=\"dataframe\">\n",
       "  <thead>\n",
       "    <tr style=\"text-align: right;\">\n",
       "      <th></th>\n",
       "      <th>index</th>\n",
       "      <th>molecule_chembl_id</th>\n",
       "      <th>canonical_smiles</th>\n",
       "      <th>class</th>\n",
       "      <th>MW</th>\n",
       "      <th>LogP</th>\n",
       "      <th>NumHDonors</th>\n",
       "      <th>NumHAcceptors</th>\n",
       "      <th>standard_value_norm</th>\n",
       "    </tr>\n",
       "  </thead>\n",
       "  <tbody>\n",
       "    <tr>\n",
       "      <th>0</th>\n",
       "      <td>0</td>\n",
       "      <td>CHEMBL311039</td>\n",
       "      <td>CC12CCC(C1)C(C)(C)C2NS(=O)(=O)c1ccc(F)cc1</td>\n",
       "      <td>intermediate</td>\n",
       "      <td>311.422</td>\n",
       "      <td>3.3188</td>\n",
       "      <td>1.0</td>\n",
       "      <td>2.0</td>\n",
       "      <td>5000.0</td>\n",
       "    </tr>\n",
       "    <tr>\n",
       "      <th>1</th>\n",
       "      <td>1</td>\n",
       "      <td>CHEMBL450926</td>\n",
       "      <td>CC12CC[C@@H](C1)C(C)(C)[C@@H]2NS(=O)(=O)c1cccs1</td>\n",
       "      <td>intermediate</td>\n",
       "      <td>299.461</td>\n",
       "      <td>3.2412</td>\n",
       "      <td>1.0</td>\n",
       "      <td>3.0</td>\n",
       "      <td>2700.0</td>\n",
       "    </tr>\n",
       "    <tr>\n",
       "      <th>2</th>\n",
       "      <td>2</td>\n",
       "      <td>CHEMBL310242</td>\n",
       "      <td>CC12CC[C@@H](C1)C(C)(C)[C@@H]2NS(=O)(=O)c1ccc(...</td>\n",
       "      <td>intermediate</td>\n",
       "      <td>311.422</td>\n",
       "      <td>3.3188</td>\n",
       "      <td>1.0</td>\n",
       "      <td>2.0</td>\n",
       "      <td>1800.0</td>\n",
       "    </tr>\n",
       "    <tr>\n",
       "      <th>3</th>\n",
       "      <td>3</td>\n",
       "      <td>CHEMBL74874</td>\n",
       "      <td>CC12CC[C@@H](C1)C(C)(C)[C@@H]2NS(=O)(=O)c1ccc(...</td>\n",
       "      <td>inactive</td>\n",
       "      <td>327.877</td>\n",
       "      <td>3.8331</td>\n",
       "      <td>1.0</td>\n",
       "      <td>2.0</td>\n",
       "      <td>11000.0</td>\n",
       "    </tr>\n",
       "    <tr>\n",
       "      <th>4</th>\n",
       "      <td>4</td>\n",
       "      <td>CHEMBL75183</td>\n",
       "      <td>CC12CC[C@@H](C1)C(C)(C)[C@@H]2NS(=O)(=O)c1ccc(...</td>\n",
       "      <td>inactive</td>\n",
       "      <td>372.328</td>\n",
       "      <td>3.9422</td>\n",
       "      <td>1.0</td>\n",
       "      <td>2.0</td>\n",
       "      <td>10000.0</td>\n",
       "    </tr>\n",
       "    <tr>\n",
       "      <th>...</th>\n",
       "      <td>...</td>\n",
       "      <td>...</td>\n",
       "      <td>...</td>\n",
       "      <td>...</td>\n",
       "      <td>...</td>\n",
       "      <td>...</td>\n",
       "      <td>...</td>\n",
       "      <td>...</td>\n",
       "      <td>...</td>\n",
       "    </tr>\n",
       "    <tr>\n",
       "      <th>857</th>\n",
       "      <td>1131</td>\n",
       "      <td>CHEMBL4286002</td>\n",
       "      <td>COc1ccccc1/C=C/c1cc(=O)c(O)co1</td>\n",
       "      <td>intermediate</td>\n",
       "      <td>244.246</td>\n",
       "      <td>2.5244</td>\n",
       "      <td>1.0</td>\n",
       "      <td>4.0</td>\n",
       "      <td>7930.0</td>\n",
       "    </tr>\n",
       "    <tr>\n",
       "      <th>858</th>\n",
       "      <td>1133</td>\n",
       "      <td>CHEMBL4287929</td>\n",
       "      <td>O=c1cc(/C=C/c2ccc(O)cc2)occ1O</td>\n",
       "      <td>intermediate</td>\n",
       "      <td>230.219</td>\n",
       "      <td>2.2214</td>\n",
       "      <td>2.0</td>\n",
       "      <td>4.0</td>\n",
       "      <td>7200.0</td>\n",
       "    </tr>\n",
       "    <tr>\n",
       "      <th>859</th>\n",
       "      <td>1134</td>\n",
       "      <td>CHEMBL4284208</td>\n",
       "      <td>O=c1cc(/C=C/c2ccccc2O)occ1O</td>\n",
       "      <td>intermediate</td>\n",
       "      <td>230.219</td>\n",
       "      <td>2.2214</td>\n",
       "      <td>2.0</td>\n",
       "      <td>4.0</td>\n",
       "      <td>8290.0</td>\n",
       "    </tr>\n",
       "    <tr>\n",
       "      <th>860</th>\n",
       "      <td>1135</td>\n",
       "      <td>CHEMBL4294830</td>\n",
       "      <td>O=c1cc(/C=C/c2cc(O)cc(O)c2)occ1O</td>\n",
       "      <td>inactive</td>\n",
       "      <td>246.218</td>\n",
       "      <td>1.9270</td>\n",
       "      <td>3.0</td>\n",
       "      <td>5.0</td>\n",
       "      <td>17950.0</td>\n",
       "    </tr>\n",
       "    <tr>\n",
       "      <th>861</th>\n",
       "      <td>1139</td>\n",
       "      <td>CHEMBL197478</td>\n",
       "      <td>O=C(/C=C/c1ccc(O)c(O)c1)NCCCNC(=O)/C=C/c1ccc(O...</td>\n",
       "      <td>intermediate</td>\n",
       "      <td>398.415</td>\n",
       "      <td>1.8581</td>\n",
       "      <td>6.0</td>\n",
       "      <td>6.0</td>\n",
       "      <td>4200.0</td>\n",
       "    </tr>\n",
       "  </tbody>\n",
       "</table>\n",
       "<p>862 rows × 9 columns</p>\n",
       "</div>"
      ],
      "text/plain": [
       "     index molecule_chembl_id  \\\n",
       "0        0       CHEMBL311039   \n",
       "1        1       CHEMBL450926   \n",
       "2        2       CHEMBL310242   \n",
       "3        3        CHEMBL74874   \n",
       "4        4        CHEMBL75183   \n",
       "..     ...                ...   \n",
       "857   1131      CHEMBL4286002   \n",
       "858   1133      CHEMBL4287929   \n",
       "859   1134      CHEMBL4284208   \n",
       "860   1135      CHEMBL4294830   \n",
       "861   1139       CHEMBL197478   \n",
       "\n",
       "                                      canonical_smiles         class       MW  \\\n",
       "0            CC12CCC(C1)C(C)(C)C2NS(=O)(=O)c1ccc(F)cc1  intermediate  311.422   \n",
       "1      CC12CC[C@@H](C1)C(C)(C)[C@@H]2NS(=O)(=O)c1cccs1  intermediate  299.461   \n",
       "2    CC12CC[C@@H](C1)C(C)(C)[C@@H]2NS(=O)(=O)c1ccc(...  intermediate  311.422   \n",
       "3    CC12CC[C@@H](C1)C(C)(C)[C@@H]2NS(=O)(=O)c1ccc(...      inactive  327.877   \n",
       "4    CC12CC[C@@H](C1)C(C)(C)[C@@H]2NS(=O)(=O)c1ccc(...      inactive  372.328   \n",
       "..                                                 ...           ...      ...   \n",
       "857                     COc1ccccc1/C=C/c1cc(=O)c(O)co1  intermediate  244.246   \n",
       "858                      O=c1cc(/C=C/c2ccc(O)cc2)occ1O  intermediate  230.219   \n",
       "859                        O=c1cc(/C=C/c2ccccc2O)occ1O  intermediate  230.219   \n",
       "860                   O=c1cc(/C=C/c2cc(O)cc(O)c2)occ1O      inactive  246.218   \n",
       "861  O=C(/C=C/c1ccc(O)c(O)c1)NCCCNC(=O)/C=C/c1ccc(O...  intermediate  398.415   \n",
       "\n",
       "       LogP  NumHDonors  NumHAcceptors  standard_value_norm  \n",
       "0    3.3188         1.0            2.0               5000.0  \n",
       "1    3.2412         1.0            3.0               2700.0  \n",
       "2    3.3188         1.0            2.0               1800.0  \n",
       "3    3.8331         1.0            2.0              11000.0  \n",
       "4    3.9422         1.0            2.0              10000.0  \n",
       "..      ...         ...            ...                  ...  \n",
       "857  2.5244         1.0            4.0               7930.0  \n",
       "858  2.2214         2.0            4.0               7200.0  \n",
       "859  2.2214         2.0            4.0               8290.0  \n",
       "860  1.9270         3.0            5.0              17950.0  \n",
       "861  1.8581         6.0            6.0               4200.0  \n",
       "\n",
       "[862 rows x 9 columns]"
      ]
     },
     "execution_count": 12,
     "metadata": {},
     "output_type": "execute_result"
    }
   ],
   "source": [
    "df_norm = norm_value(df_combined)\n",
    "df_norm"
   ]
  },
  {
   "cell_type": "code",
   "execution_count": 13,
   "metadata": {},
   "outputs": [
    {
     "data": {
      "text/plain": [
       "count       862.000000\n",
       "mean      20051.511218\n",
       "std       58765.079219\n",
       "min          -1.000000\n",
       "25%         100.000000\n",
       "50%        2975.000000\n",
       "75%       15000.000000\n",
       "max      800000.000000\n",
       "Name: standard_value_norm, dtype: float64"
      ]
     },
     "execution_count": 13,
     "metadata": {},
     "output_type": "execute_result"
    }
   ],
   "source": [
    "df_norm.standard_value_norm.describe()"
   ]
  },
  {
   "cell_type": "code",
   "execution_count": 14,
   "metadata": {
    "scrolled": true
   },
   "outputs": [
    {
     "name": "stderr",
     "output_type": "stream",
     "text": [
      "C:\\Users\\aditj\\anaconda.updated\\envs\\my-rdkit-env\\lib\\site-packages\\ipykernel_launcher.py:10: RuntimeWarning: invalid value encountered in log10\n",
      "  # Remove the CWD from sys.path while we load stuff.\n"
     ]
    },
    {
     "data": {
      "text/html": [
       "<div>\n",
       "<style scoped>\n",
       "    .dataframe tbody tr th:only-of-type {\n",
       "        vertical-align: middle;\n",
       "    }\n",
       "\n",
       "    .dataframe tbody tr th {\n",
       "        vertical-align: top;\n",
       "    }\n",
       "\n",
       "    .dataframe thead th {\n",
       "        text-align: right;\n",
       "    }\n",
       "</style>\n",
       "<table border=\"1\" class=\"dataframe\">\n",
       "  <thead>\n",
       "    <tr style=\"text-align: right;\">\n",
       "      <th></th>\n",
       "      <th>index</th>\n",
       "      <th>molecule_chembl_id</th>\n",
       "      <th>canonical_smiles</th>\n",
       "      <th>class</th>\n",
       "      <th>MW</th>\n",
       "      <th>LogP</th>\n",
       "      <th>NumHDonors</th>\n",
       "      <th>NumHAcceptors</th>\n",
       "      <th>pIC50</th>\n",
       "    </tr>\n",
       "  </thead>\n",
       "  <tbody>\n",
       "    <tr>\n",
       "      <th>0</th>\n",
       "      <td>0</td>\n",
       "      <td>CHEMBL311039</td>\n",
       "      <td>CC12CCC(C1)C(C)(C)C2NS(=O)(=O)c1ccc(F)cc1</td>\n",
       "      <td>intermediate</td>\n",
       "      <td>311.422</td>\n",
       "      <td>3.3188</td>\n",
       "      <td>1.0</td>\n",
       "      <td>2.0</td>\n",
       "      <td>5.301030</td>\n",
       "    </tr>\n",
       "    <tr>\n",
       "      <th>1</th>\n",
       "      <td>1</td>\n",
       "      <td>CHEMBL450926</td>\n",
       "      <td>CC12CC[C@@H](C1)C(C)(C)[C@@H]2NS(=O)(=O)c1cccs1</td>\n",
       "      <td>intermediate</td>\n",
       "      <td>299.461</td>\n",
       "      <td>3.2412</td>\n",
       "      <td>1.0</td>\n",
       "      <td>3.0</td>\n",
       "      <td>5.568636</td>\n",
       "    </tr>\n",
       "    <tr>\n",
       "      <th>2</th>\n",
       "      <td>2</td>\n",
       "      <td>CHEMBL310242</td>\n",
       "      <td>CC12CC[C@@H](C1)C(C)(C)[C@@H]2NS(=O)(=O)c1ccc(...</td>\n",
       "      <td>intermediate</td>\n",
       "      <td>311.422</td>\n",
       "      <td>3.3188</td>\n",
       "      <td>1.0</td>\n",
       "      <td>2.0</td>\n",
       "      <td>5.744727</td>\n",
       "    </tr>\n",
       "    <tr>\n",
       "      <th>3</th>\n",
       "      <td>3</td>\n",
       "      <td>CHEMBL74874</td>\n",
       "      <td>CC12CC[C@@H](C1)C(C)(C)[C@@H]2NS(=O)(=O)c1ccc(...</td>\n",
       "      <td>inactive</td>\n",
       "      <td>327.877</td>\n",
       "      <td>3.8331</td>\n",
       "      <td>1.0</td>\n",
       "      <td>2.0</td>\n",
       "      <td>4.958607</td>\n",
       "    </tr>\n",
       "    <tr>\n",
       "      <th>4</th>\n",
       "      <td>4</td>\n",
       "      <td>CHEMBL75183</td>\n",
       "      <td>CC12CC[C@@H](C1)C(C)(C)[C@@H]2NS(=O)(=O)c1ccc(...</td>\n",
       "      <td>inactive</td>\n",
       "      <td>372.328</td>\n",
       "      <td>3.9422</td>\n",
       "      <td>1.0</td>\n",
       "      <td>2.0</td>\n",
       "      <td>5.000000</td>\n",
       "    </tr>\n",
       "    <tr>\n",
       "      <th>...</th>\n",
       "      <td>...</td>\n",
       "      <td>...</td>\n",
       "      <td>...</td>\n",
       "      <td>...</td>\n",
       "      <td>...</td>\n",
       "      <td>...</td>\n",
       "      <td>...</td>\n",
       "      <td>...</td>\n",
       "      <td>...</td>\n",
       "    </tr>\n",
       "    <tr>\n",
       "      <th>857</th>\n",
       "      <td>1131</td>\n",
       "      <td>CHEMBL4286002</td>\n",
       "      <td>COc1ccccc1/C=C/c1cc(=O)c(O)co1</td>\n",
       "      <td>intermediate</td>\n",
       "      <td>244.246</td>\n",
       "      <td>2.5244</td>\n",
       "      <td>1.0</td>\n",
       "      <td>4.0</td>\n",
       "      <td>5.100727</td>\n",
       "    </tr>\n",
       "    <tr>\n",
       "      <th>858</th>\n",
       "      <td>1133</td>\n",
       "      <td>CHEMBL4287929</td>\n",
       "      <td>O=c1cc(/C=C/c2ccc(O)cc2)occ1O</td>\n",
       "      <td>intermediate</td>\n",
       "      <td>230.219</td>\n",
       "      <td>2.2214</td>\n",
       "      <td>2.0</td>\n",
       "      <td>4.0</td>\n",
       "      <td>5.142668</td>\n",
       "    </tr>\n",
       "    <tr>\n",
       "      <th>859</th>\n",
       "      <td>1134</td>\n",
       "      <td>CHEMBL4284208</td>\n",
       "      <td>O=c1cc(/C=C/c2ccccc2O)occ1O</td>\n",
       "      <td>intermediate</td>\n",
       "      <td>230.219</td>\n",
       "      <td>2.2214</td>\n",
       "      <td>2.0</td>\n",
       "      <td>4.0</td>\n",
       "      <td>5.081445</td>\n",
       "    </tr>\n",
       "    <tr>\n",
       "      <th>860</th>\n",
       "      <td>1135</td>\n",
       "      <td>CHEMBL4294830</td>\n",
       "      <td>O=c1cc(/C=C/c2cc(O)cc(O)c2)occ1O</td>\n",
       "      <td>inactive</td>\n",
       "      <td>246.218</td>\n",
       "      <td>1.9270</td>\n",
       "      <td>3.0</td>\n",
       "      <td>5.0</td>\n",
       "      <td>4.745936</td>\n",
       "    </tr>\n",
       "    <tr>\n",
       "      <th>861</th>\n",
       "      <td>1139</td>\n",
       "      <td>CHEMBL197478</td>\n",
       "      <td>O=C(/C=C/c1ccc(O)c(O)c1)NCCCNC(=O)/C=C/c1ccc(O...</td>\n",
       "      <td>intermediate</td>\n",
       "      <td>398.415</td>\n",
       "      <td>1.8581</td>\n",
       "      <td>6.0</td>\n",
       "      <td>6.0</td>\n",
       "      <td>5.376751</td>\n",
       "    </tr>\n",
       "  </tbody>\n",
       "</table>\n",
       "<p>862 rows × 9 columns</p>\n",
       "</div>"
      ],
      "text/plain": [
       "     index molecule_chembl_id  \\\n",
       "0        0       CHEMBL311039   \n",
       "1        1       CHEMBL450926   \n",
       "2        2       CHEMBL310242   \n",
       "3        3        CHEMBL74874   \n",
       "4        4        CHEMBL75183   \n",
       "..     ...                ...   \n",
       "857   1131      CHEMBL4286002   \n",
       "858   1133      CHEMBL4287929   \n",
       "859   1134      CHEMBL4284208   \n",
       "860   1135      CHEMBL4294830   \n",
       "861   1139       CHEMBL197478   \n",
       "\n",
       "                                      canonical_smiles         class       MW  \\\n",
       "0            CC12CCC(C1)C(C)(C)C2NS(=O)(=O)c1ccc(F)cc1  intermediate  311.422   \n",
       "1      CC12CC[C@@H](C1)C(C)(C)[C@@H]2NS(=O)(=O)c1cccs1  intermediate  299.461   \n",
       "2    CC12CC[C@@H](C1)C(C)(C)[C@@H]2NS(=O)(=O)c1ccc(...  intermediate  311.422   \n",
       "3    CC12CC[C@@H](C1)C(C)(C)[C@@H]2NS(=O)(=O)c1ccc(...      inactive  327.877   \n",
       "4    CC12CC[C@@H](C1)C(C)(C)[C@@H]2NS(=O)(=O)c1ccc(...      inactive  372.328   \n",
       "..                                                 ...           ...      ...   \n",
       "857                     COc1ccccc1/C=C/c1cc(=O)c(O)co1  intermediate  244.246   \n",
       "858                      O=c1cc(/C=C/c2ccc(O)cc2)occ1O  intermediate  230.219   \n",
       "859                        O=c1cc(/C=C/c2ccccc2O)occ1O  intermediate  230.219   \n",
       "860                   O=c1cc(/C=C/c2cc(O)cc(O)c2)occ1O      inactive  246.218   \n",
       "861  O=C(/C=C/c1ccc(O)c(O)c1)NCCCNC(=O)/C=C/c1ccc(O...  intermediate  398.415   \n",
       "\n",
       "       LogP  NumHDonors  NumHAcceptors     pIC50  \n",
       "0    3.3188         1.0            2.0  5.301030  \n",
       "1    3.2412         1.0            3.0  5.568636  \n",
       "2    3.3188         1.0            2.0  5.744727  \n",
       "3    3.8331         1.0            2.0  4.958607  \n",
       "4    3.9422         1.0            2.0  5.000000  \n",
       "..      ...         ...            ...       ...  \n",
       "857  2.5244         1.0            4.0  5.100727  \n",
       "858  2.2214         2.0            4.0  5.142668  \n",
       "859  2.2214         2.0            4.0  5.081445  \n",
       "860  1.9270         3.0            5.0  4.745936  \n",
       "861  1.8581         6.0            6.0  5.376751  \n",
       "\n",
       "[862 rows x 9 columns]"
      ]
     },
     "execution_count": 14,
     "metadata": {},
     "output_type": "execute_result"
    }
   ],
   "source": [
    "df_final = pIC50(df_norm)\n",
    "df_final"
   ]
  },
  {
   "cell_type": "code",
   "execution_count": 15,
   "metadata": {
    "scrolled": true
   },
   "outputs": [
    {
     "data": {
      "text/plain": [
       "count    861.000000\n",
       "mean       5.872235\n",
       "std        1.351522\n",
       "min        3.096910\n",
       "25%        4.823909\n",
       "50%        5.522879\n",
       "75%        7.000000\n",
       "max        9.522879\n",
       "Name: pIC50, dtype: float64"
      ]
     },
     "execution_count": 15,
     "metadata": {},
     "output_type": "execute_result"
    }
   ],
   "source": [
    "df_final.pIC50.describe()"
   ]
  },
  {
   "cell_type": "code",
   "execution_count": 45,
   "metadata": {},
   "outputs": [],
   "source": [
    "df_final.to_csv('BetaAmyloidA4_04_bioactivity_data_3class_pIC50.csv')"
   ]
  },
  {
   "cell_type": "markdown",
   "metadata": {},
   "source": [
    "### The IC50 values have been normalized under the pIC50 column. We will now remove the 'intermediate' bioactivity class so we are only left with the 'active' and 'inactive' classes. "
   ]
  },
  {
   "cell_type": "code",
   "execution_count": 16,
   "metadata": {
    "scrolled": true
   },
   "outputs": [
    {
     "data": {
      "text/html": [
       "<div>\n",
       "<style scoped>\n",
       "    .dataframe tbody tr th:only-of-type {\n",
       "        vertical-align: middle;\n",
       "    }\n",
       "\n",
       "    .dataframe tbody tr th {\n",
       "        vertical-align: top;\n",
       "    }\n",
       "\n",
       "    .dataframe thead th {\n",
       "        text-align: right;\n",
       "    }\n",
       "</style>\n",
       "<table border=\"1\" class=\"dataframe\">\n",
       "  <thead>\n",
       "    <tr style=\"text-align: right;\">\n",
       "      <th></th>\n",
       "      <th>index</th>\n",
       "      <th>molecule_chembl_id</th>\n",
       "      <th>canonical_smiles</th>\n",
       "      <th>class</th>\n",
       "      <th>MW</th>\n",
       "      <th>LogP</th>\n",
       "      <th>NumHDonors</th>\n",
       "      <th>NumHAcceptors</th>\n",
       "      <th>pIC50</th>\n",
       "    </tr>\n",
       "  </thead>\n",
       "  <tbody>\n",
       "    <tr>\n",
       "      <th>3</th>\n",
       "      <td>3</td>\n",
       "      <td>CHEMBL74874</td>\n",
       "      <td>CC12CC[C@@H](C1)C(C)(C)[C@@H]2NS(=O)(=O)c1ccc(...</td>\n",
       "      <td>inactive</td>\n",
       "      <td>327.877</td>\n",
       "      <td>3.8331</td>\n",
       "      <td>1.0</td>\n",
       "      <td>2.0</td>\n",
       "      <td>4.958607</td>\n",
       "    </tr>\n",
       "    <tr>\n",
       "      <th>4</th>\n",
       "      <td>4</td>\n",
       "      <td>CHEMBL75183</td>\n",
       "      <td>CC12CC[C@@H](C1)C(C)(C)[C@@H]2NS(=O)(=O)c1ccc(...</td>\n",
       "      <td>inactive</td>\n",
       "      <td>372.328</td>\n",
       "      <td>3.9422</td>\n",
       "      <td>1.0</td>\n",
       "      <td>2.0</td>\n",
       "      <td>5.000000</td>\n",
       "    </tr>\n",
       "    <tr>\n",
       "      <th>5</th>\n",
       "      <td>5</td>\n",
       "      <td>CHEMBL563</td>\n",
       "      <td>CC(C(=O)O)c1ccc(-c2ccccc2)c(F)c1</td>\n",
       "      <td>inactive</td>\n",
       "      <td>244.265</td>\n",
       "      <td>3.6808</td>\n",
       "      <td>1.0</td>\n",
       "      <td>1.0</td>\n",
       "      <td>3.515700</td>\n",
       "    </tr>\n",
       "    <tr>\n",
       "      <th>6</th>\n",
       "      <td>6</td>\n",
       "      <td>CHEMBL196279</td>\n",
       "      <td>CC(C(=O)O)c1ccc(-c2ccc(Cl)c(Cl)c2)c(F)c1</td>\n",
       "      <td>inactive</td>\n",
       "      <td>313.155</td>\n",
       "      <td>4.9876</td>\n",
       "      <td>1.0</td>\n",
       "      <td>1.0</td>\n",
       "      <td>4.124939</td>\n",
       "    </tr>\n",
       "    <tr>\n",
       "      <th>7</th>\n",
       "      <td>8</td>\n",
       "      <td>CHEMBL195970</td>\n",
       "      <td>CC(C(=O)O)c1ccc(-c2cc(Cl)cc(Cl)c2)c(F)c1</td>\n",
       "      <td>inactive</td>\n",
       "      <td>313.155</td>\n",
       "      <td>4.9876</td>\n",
       "      <td>1.0</td>\n",
       "      <td>1.0</td>\n",
       "      <td>4.113509</td>\n",
       "    </tr>\n",
       "    <tr>\n",
       "      <th>...</th>\n",
       "      <td>...</td>\n",
       "      <td>...</td>\n",
       "      <td>...</td>\n",
       "      <td>...</td>\n",
       "      <td>...</td>\n",
       "      <td>...</td>\n",
       "      <td>...</td>\n",
       "      <td>...</td>\n",
       "      <td>...</td>\n",
       "    </tr>\n",
       "    <tr>\n",
       "      <th>852</th>\n",
       "      <td>1122</td>\n",
       "      <td>CHEMBL4226831</td>\n",
       "      <td>COc1ccc(CCC(=O)N2CCN(Cc3ccc(O)c4ncccc34)CC2)cc1</td>\n",
       "      <td>inactive</td>\n",
       "      <td>405.498</td>\n",
       "      <td>3.2260</td>\n",
       "      <td>1.0</td>\n",
       "      <td>5.0</td>\n",
       "      <td>4.738024</td>\n",
       "    </tr>\n",
       "    <tr>\n",
       "      <th>853</th>\n",
       "      <td>1123</td>\n",
       "      <td>CHEMBL4225989</td>\n",
       "      <td>O=C(CCc1ccc(F)cc1)N1CCN(Cc2ccc(O)c3ncccc23)CC1</td>\n",
       "      <td>inactive</td>\n",
       "      <td>393.462</td>\n",
       "      <td>3.3565</td>\n",
       "      <td>1.0</td>\n",
       "      <td>4.0</td>\n",
       "      <td>4.685922</td>\n",
       "    </tr>\n",
       "    <tr>\n",
       "      <th>854</th>\n",
       "      <td>1124</td>\n",
       "      <td>CHEMBL194823</td>\n",
       "      <td>O=C(CCCCC1CCSS1)NCCCNc1c2c(nc3cc(Cl)ccc13)CCCC2</td>\n",
       "      <td>inactive</td>\n",
       "      <td>478.127</td>\n",
       "      <td>6.3993</td>\n",
       "      <td>2.0</td>\n",
       "      <td>5.0</td>\n",
       "      <td>4.346787</td>\n",
       "    </tr>\n",
       "    <tr>\n",
       "      <th>855</th>\n",
       "      <td>1127</td>\n",
       "      <td>CHEMBL4282190</td>\n",
       "      <td>O=c1cc(/C=C/c2cccc(F)c2)occ1O</td>\n",
       "      <td>inactive</td>\n",
       "      <td>232.210</td>\n",
       "      <td>2.6549</td>\n",
       "      <td>1.0</td>\n",
       "      <td>3.0</td>\n",
       "      <td>4.752518</td>\n",
       "    </tr>\n",
       "    <tr>\n",
       "      <th>860</th>\n",
       "      <td>1135</td>\n",
       "      <td>CHEMBL4294830</td>\n",
       "      <td>O=c1cc(/C=C/c2cc(O)cc(O)c2)occ1O</td>\n",
       "      <td>inactive</td>\n",
       "      <td>246.218</td>\n",
       "      <td>1.9270</td>\n",
       "      <td>3.0</td>\n",
       "      <td>5.0</td>\n",
       "      <td>4.745936</td>\n",
       "    </tr>\n",
       "  </tbody>\n",
       "</table>\n",
       "<p>667 rows × 9 columns</p>\n",
       "</div>"
      ],
      "text/plain": [
       "     index molecule_chembl_id  \\\n",
       "3        3        CHEMBL74874   \n",
       "4        4        CHEMBL75183   \n",
       "5        5          CHEMBL563   \n",
       "6        6       CHEMBL196279   \n",
       "7        8       CHEMBL195970   \n",
       "..     ...                ...   \n",
       "852   1122      CHEMBL4226831   \n",
       "853   1123      CHEMBL4225989   \n",
       "854   1124       CHEMBL194823   \n",
       "855   1127      CHEMBL4282190   \n",
       "860   1135      CHEMBL4294830   \n",
       "\n",
       "                                      canonical_smiles     class       MW  \\\n",
       "3    CC12CC[C@@H](C1)C(C)(C)[C@@H]2NS(=O)(=O)c1ccc(...  inactive  327.877   \n",
       "4    CC12CC[C@@H](C1)C(C)(C)[C@@H]2NS(=O)(=O)c1ccc(...  inactive  372.328   \n",
       "5                     CC(C(=O)O)c1ccc(-c2ccccc2)c(F)c1  inactive  244.265   \n",
       "6             CC(C(=O)O)c1ccc(-c2ccc(Cl)c(Cl)c2)c(F)c1  inactive  313.155   \n",
       "7             CC(C(=O)O)c1ccc(-c2cc(Cl)cc(Cl)c2)c(F)c1  inactive  313.155   \n",
       "..                                                 ...       ...      ...   \n",
       "852    COc1ccc(CCC(=O)N2CCN(Cc3ccc(O)c4ncccc34)CC2)cc1  inactive  405.498   \n",
       "853     O=C(CCc1ccc(F)cc1)N1CCN(Cc2ccc(O)c3ncccc23)CC1  inactive  393.462   \n",
       "854    O=C(CCCCC1CCSS1)NCCCNc1c2c(nc3cc(Cl)ccc13)CCCC2  inactive  478.127   \n",
       "855                      O=c1cc(/C=C/c2cccc(F)c2)occ1O  inactive  232.210   \n",
       "860                   O=c1cc(/C=C/c2cc(O)cc(O)c2)occ1O  inactive  246.218   \n",
       "\n",
       "       LogP  NumHDonors  NumHAcceptors     pIC50  \n",
       "3    3.8331         1.0            2.0  4.958607  \n",
       "4    3.9422         1.0            2.0  5.000000  \n",
       "5    3.6808         1.0            1.0  3.515700  \n",
       "6    4.9876         1.0            1.0  4.124939  \n",
       "7    4.9876         1.0            1.0  4.113509  \n",
       "..      ...         ...            ...       ...  \n",
       "852  3.2260         1.0            5.0  4.738024  \n",
       "853  3.3565         1.0            4.0  4.685922  \n",
       "854  6.3993         2.0            5.0  4.346787  \n",
       "855  2.6549         1.0            3.0  4.752518  \n",
       "860  1.9270         3.0            5.0  4.745936  \n",
       "\n",
       "[667 rows x 9 columns]"
      ]
     },
     "execution_count": 16,
     "metadata": {},
     "output_type": "execute_result"
    }
   ],
   "source": [
    "df_2class = df_final[df_final['class'] != 'intermediate']\n",
    "df_2class"
   ]
  },
  {
   "cell_type": "markdown",
   "metadata": {},
   "source": [
    "## Exploratory Data Analysis using Lipinski Descriptors"
   ]
  },
  {
   "cell_type": "code",
   "execution_count": 17,
   "metadata": {},
   "outputs": [
    {
     "name": "stdout",
     "output_type": "stream",
     "text": [
      "Requirement already satisfied: seaborn in c:\\users\\aditj\\anaconda.updated\\envs\\my-rdkit-env\\lib\\site-packages (0.11.0)\n",
      "Requirement already satisfied: numpy>=1.15 in c:\\users\\aditj\\anaconda.updated\\envs\\my-rdkit-env\\lib\\site-packages (from seaborn) (1.19.1)\n",
      "Requirement already satisfied: pandas>=0.23 in c:\\users\\aditj\\anaconda.updated\\envs\\my-rdkit-env\\lib\\site-packages (from seaborn) (1.1.3)\n",
      "Requirement already satisfied: matplotlib>=2.2 in c:\\users\\aditj\\anaconda.updated\\envs\\my-rdkit-env\\lib\\site-packages (from seaborn) (3.3.3)\n",
      "Requirement already satisfied: scipy>=1.0 in c:\\users\\aditj\\anaconda.updated\\envs\\my-rdkit-env\\lib\\site-packages (from seaborn) (1.5.4)\n",
      "Requirement already satisfied: pytz>=2017.2 in c:\\users\\aditj\\anaconda.updated\\envs\\my-rdkit-env\\lib\\site-packages (from pandas>=0.23->seaborn) (2020.1)\n",
      "Requirement already satisfied: python-dateutil>=2.7.3 in c:\\users\\aditj\\anaconda.updated\\envs\\my-rdkit-env\\lib\\site-packages (from pandas>=0.23->seaborn) (2.8.1)\n",
      "Requirement already satisfied: pyparsing!=2.0.4,!=2.1.2,!=2.1.6,>=2.0.3 in c:\\users\\aditj\\anaconda.updated\\envs\\my-rdkit-env\\lib\\site-packages (from matplotlib>=2.2->seaborn) (2.4.7)\n",
      "Requirement already satisfied: kiwisolver>=1.0.1 in c:\\users\\aditj\\anaconda.updated\\envs\\my-rdkit-env\\lib\\site-packages (from matplotlib>=2.2->seaborn) (1.3.1)\n",
      "Requirement already satisfied: cycler>=0.10 in c:\\users\\aditj\\anaconda.updated\\envs\\my-rdkit-env\\lib\\site-packages (from matplotlib>=2.2->seaborn) (0.10.0)\n",
      "Requirement already satisfied: pillow>=6.2.0 in c:\\users\\aditj\\anaconda.updated\\envs\\my-rdkit-env\\lib\\site-packages (from matplotlib>=2.2->seaborn) (8.0.0)\n",
      "Requirement already satisfied: six>=1.5 in c:\\users\\aditj\\anaconda.updated\\envs\\my-rdkit-env\\lib\\site-packages (from python-dateutil>=2.7.3->pandas>=0.23->seaborn) (1.15.0)\n"
     ]
    }
   ],
   "source": [
    "!pip install seaborn\n",
    "import seaborn as sns\n",
    "sns.set(style='ticks')\n",
    "import matplotlib.pyplot as plt"
   ]
  },
  {
   "cell_type": "markdown",
   "metadata": {},
   "source": [
    "### Frequency Plot of the Two Bioactivity Classes"
   ]
  },
  {
   "cell_type": "code",
   "execution_count": 18,
   "metadata": {
    "scrolled": true
   },
   "outputs": [
    {
     "data": {
      "image/png": "[encoded data removed]",
      "text/plain": [
       "<Figure size 396x396 with 1 Axes>"
      ]
     },
     "metadata": {},
     "output_type": "display_data"
    }
   ],
   "source": [
    "plt.figure(figsize=(5.5, 5.5))\n",
    "\n",
    "sns.countplot(x='class', data=df_2class, edgecolor='black')\n",
    "\n",
    "plt.xlabel('Bioactivity class', fontsize=14, fontweight='bold')\n",
    "plt.ylabel('Frequency', fontsize=14, fontweight='bold')\n",
    "\n",
    "plt.savefig('plot_bioactivity_class.pdf')"
   ]
  },
  {
   "cell_type": "markdown",
   "metadata": {},
   "source": [
    "### Scatter Plot of Molecular Weight versus LogP"
   ]
  },
  {
   "cell_type": "code",
   "execution_count": 19,
   "metadata": {
    "scrolled": false
   },
   "outputs": [
    {
     "data": {
      "image/png": "[encoded data removed]",
      "text/plain": [
       "<Figure size 396x396 with 1 Axes>"
      ]
     },
     "metadata": {},
     "output_type": "display_data"
    }
   ],
   "source": [
    "plt.figure(figsize=(5.5, 5.5))\n",
    "\n",
    "sns.scatterplot(x='MW', y='LogP', data=df_2class, hue='class', size='pIC50', edgecolor='black', alpha=0.7)\n",
    "\n",
    "plt.xlabel('MW', fontsize=14, fontweight='bold')\n",
    "plt.ylabel('LogP', fontsize=14, fontweight='bold')\n",
    "plt.legend(bbox_to_anchor=(1.05, 1), loc=2, borderaxespad=0)\n",
    "plt.savefig('plot_MW_vs_LogP.pdf')"
   ]
  },
  {
   "cell_type": "markdown",
   "metadata": {},
   "source": [
    "### Boxplots\n",
    "\n",
    "\n",
    "#### pIC50 value\n",
    "Note that the boxplot depicts the classification boundaries we set in the Data Processing step - 'active' compounds are defined with a pIC50 value of <5, and 'inactive' compounds are those with a pIC50 value of > 6.  "
   ]
  },
  {
   "cell_type": "code",
   "execution_count": 20,
   "metadata": {
    "scrolled": false
   },
   "outputs": [
    {
     "data": {
      "image/png": "[encoded data removed]",
      "text/plain": [
       "<Figure size 396x396 with 1 Axes>"
      ]
     },
     "metadata": {},
     "output_type": "display_data"
    }
   ],
   "source": [
    "plt.figure(figsize=(5.5, 5.5))\n",
    "\n",
    "sns.boxplot(x = 'class', y = 'pIC50', data = df_2class)\n",
    "\n",
    "plt.xlabel('Bioactivity class', fontsize=14, fontweight='bold')\n",
    "plt.ylabel('pIC50 value', fontsize=14, fontweight='bold')\n",
    "\n",
    "plt.savefig('plot_ic50.pdf')"
   ]
  },
  {
   "cell_type": "markdown",
   "metadata": {},
   "source": [
    "### Statistical Analysis using the Mann-Whitney U Test. \n",
    "\n",
    "##### The Mann-Whitney U test is used to assess whether two groups are statistically significant. In this case, we will perform the Mann-Whitney U Test for the four Lipinski descriptors (MW,  LogP, Number of H donors, Number of H acceptors).   "
   ]
  },
  {
   "cell_type": "code",
   "execution_count": 27,
   "metadata": {
    "scrolled": true
   },
   "outputs": [],
   "source": [
    "def mannwhitney(descriptor, verbose=False):\n",
    "  # https://machinelearningmastery.com/nonparametric-statistical-significance-tests-in-python/\n",
    "  from numpy.random import seed\n",
    "  from numpy.random import randn\n",
    "  from scipy.stats import mannwhitneyu\n",
    "\n",
    "# seed the random number generator\n",
    "  seed(1)\n",
    "\n",
    "# actives and inactives\n",
    "  selection = [descriptor, 'class']\n",
    "  df = df_2class[selection]\n",
    "  active = df[df['class'] == 'active']\n",
    "  active = active[descriptor]\n",
    "\n",
    "  selection = [descriptor, 'class']\n",
    "  df = df_2class[selection]\n",
    "  inactive = df[df['class'] == 'inactive']\n",
    "  inactive = inactive[descriptor]\n",
    "\n",
    "# compare samples\n",
    "  stat, p = mannwhitneyu(active, inactive)\n",
    "  #print('Statistics=%.3f, p=%.3f' % (stat, p))\n",
    "\n",
    "# interpret\n",
    "  alpha = 0.05\n",
    "  if p > alpha:\n",
    "    interpretation = 'Same distribution (fail to reject H0)'\n",
    "  else:\n",
    "    interpretation = 'Different distribution (reject H0)'\n",
    "  \n",
    "  results = pd.DataFrame({'Descriptor':descriptor,\n",
    "                          'Statistics':stat,\n",
    "                          'p':p,\n",
    "                          'alpha':alpha,\n",
    "                          'Interpretation':interpretation}, index=[0])\n",
    "  filename = 'mannwhitneyu_' + descriptor + '.csv'\n",
    "  results.to_csv(filename)\n",
    "\n",
    "  return results"
   ]
  },
  {
   "cell_type": "code",
   "execution_count": 29,
   "metadata": {
    "scrolled": true
   },
   "outputs": [
    {
     "data": {
      "text/html": [
       "<div>\n",
       "<style scoped>\n",
       "    .dataframe tbody tr th:only-of-type {\n",
       "        vertical-align: middle;\n",
       "    }\n",
       "\n",
       "    .dataframe tbody tr th {\n",
       "        vertical-align: top;\n",
       "    }\n",
       "\n",
       "    .dataframe thead th {\n",
       "        text-align: right;\n",
       "    }\n",
       "</style>\n",
       "<table border=\"1\" class=\"dataframe\">\n",
       "  <thead>\n",
       "    <tr style=\"text-align: right;\">\n",
       "      <th></th>\n",
       "      <th>Descriptor</th>\n",
       "      <th>Statistics</th>\n",
       "      <th>p</th>\n",
       "      <th>alpha</th>\n",
       "      <th>Interpretation</th>\n",
       "    </tr>\n",
       "  </thead>\n",
       "  <tbody>\n",
       "    <tr>\n",
       "      <th>0</th>\n",
       "      <td>pIC50</td>\n",
       "      <td>0.0</td>\n",
       "      <td>4.125803e-110</td>\n",
       "      <td>0.05</td>\n",
       "      <td>Different distribution (reject H0)</td>\n",
       "    </tr>\n",
       "  </tbody>\n",
       "</table>\n",
       "</div>"
      ],
      "text/plain": [
       "  Descriptor  Statistics              p  alpha  \\\n",
       "0      pIC50         0.0  4.125803e-110   0.05   \n",
       "\n",
       "                       Interpretation  \n",
       "0  Different distribution (reject H0)  "
      ]
     },
     "execution_count": 29,
     "metadata": {},
     "output_type": "execute_result"
    }
   ],
   "source": [
    "#This is a test to prove that the Mann Whitney U Test function shown above is accurate. We already know that the pIC50 values are statistically significant, and the output of the function provides the same conclusion as it rejected the null hypothesis\n",
    "mannwhitney('pIC50')"
   ]
  },
  {
   "cell_type": "markdown",
   "metadata": {},
   "source": [
    "##### Molecular Weight (MW)"
   ]
  },
  {
   "cell_type": "code",
   "execution_count": 33,
   "metadata": {
    "scrolled": true
   },
   "outputs": [
    {
     "data": {
      "image/png": "[encoded data removed]",
      "text/plain": [
       "<Figure size 396x396 with 1 Axes>"
      ]
     },
     "metadata": {},
     "output_type": "display_data"
    }
   ],
   "source": [
    "plt.figure(figsize=(5.5, 5.5))\n",
    "\n",
    "sns.boxplot(x = 'class', y = 'MW', data = df_2class)\n",
    "\n",
    "plt.xlabel('Bioactivity class', fontsize=14, fontweight='bold')\n",
    "plt.ylabel('MW', fontsize=14, fontweight='bold')\n",
    "\n",
    "plt.savefig('plot_MW.pdf')"
   ]
  },
  {
   "cell_type": "code",
   "execution_count": 34,
   "metadata": {
    "scrolled": true
   },
   "outputs": [
    {
     "data": {
      "text/html": [
       "<div>\n",
       "<style scoped>\n",
       "    .dataframe tbody tr th:only-of-type {\n",
       "        vertical-align: middle;\n",
       "    }\n",
       "\n",
       "    .dataframe tbody tr th {\n",
       "        vertical-align: top;\n",
       "    }\n",
       "\n",
       "    .dataframe thead th {\n",
       "        text-align: right;\n",
       "    }\n",
       "</style>\n",
       "<table border=\"1\" class=\"dataframe\">\n",
       "  <thead>\n",
       "    <tr style=\"text-align: right;\">\n",
       "      <th></th>\n",
       "      <th>Descriptor</th>\n",
       "      <th>Statistics</th>\n",
       "      <th>p</th>\n",
       "      <th>alpha</th>\n",
       "      <th>Interpretation</th>\n",
       "    </tr>\n",
       "  </thead>\n",
       "  <tbody>\n",
       "    <tr>\n",
       "      <th>0</th>\n",
       "      <td>MW</td>\n",
       "      <td>37284.5</td>\n",
       "      <td>2.627929e-13</td>\n",
       "      <td>0.05</td>\n",
       "      <td>Different distribution (reject H0)</td>\n",
       "    </tr>\n",
       "  </tbody>\n",
       "</table>\n",
       "</div>"
      ],
      "text/plain": [
       "  Descriptor  Statistics             p  alpha  \\\n",
       "0         MW     37284.5  2.627929e-13   0.05   \n",
       "\n",
       "                       Interpretation  \n",
       "0  Different distribution (reject H0)  "
      ]
     },
     "execution_count": 34,
     "metadata": {},
     "output_type": "execute_result"
    }
   ],
   "source": [
    "mannwhitney('MW')"
   ]
  },
  {
   "cell_type": "markdown",
   "metadata": {},
   "source": [
    "##### LogP"
   ]
  },
  {
   "cell_type": "code",
   "execution_count": 36,
   "metadata": {
    "scrolled": true
   },
   "outputs": [
    {
     "data": {
      "image/png": "[encoded data removed]",
      "text/plain": [
       "<Figure size 396x396 with 1 Axes>"
      ]
     },
     "metadata": {},
     "output_type": "display_data"
    }
   ],
   "source": [
    "plt.figure(figsize=(5.5, 5.5))\n",
    "\n",
    "sns.boxplot(x = 'class', y = 'LogP', data = df_2class)\n",
    "\n",
    "plt.xlabel('Bioactivity class', fontsize=14, fontweight='bold')\n",
    "plt.ylabel('LogP', fontsize=14, fontweight='bold')\n",
    "\n",
    "plt.savefig('plot_LogP.pdf')"
   ]
  },
  {
   "cell_type": "code",
   "execution_count": 37,
   "metadata": {
    "scrolled": true
   },
   "outputs": [
    {
     "data": {
      "text/html": [
       "<div>\n",
       "<style scoped>\n",
       "    .dataframe tbody tr th:only-of-type {\n",
       "        vertical-align: middle;\n",
       "    }\n",
       "\n",
       "    .dataframe tbody tr th {\n",
       "        vertical-align: top;\n",
       "    }\n",
       "\n",
       "    .dataframe thead th {\n",
       "        text-align: right;\n",
       "    }\n",
       "</style>\n",
       "<table border=\"1\" class=\"dataframe\">\n",
       "  <thead>\n",
       "    <tr style=\"text-align: right;\">\n",
       "      <th></th>\n",
       "      <th>Descriptor</th>\n",
       "      <th>Statistics</th>\n",
       "      <th>p</th>\n",
       "      <th>alpha</th>\n",
       "      <th>Interpretation</th>\n",
       "    </tr>\n",
       "  </thead>\n",
       "  <tbody>\n",
       "    <tr>\n",
       "      <th>0</th>\n",
       "      <td>LogP</td>\n",
       "      <td>47142.0</td>\n",
       "      <td>0.000595</td>\n",
       "      <td>0.05</td>\n",
       "      <td>Different distribution (reject H0)</td>\n",
       "    </tr>\n",
       "  </tbody>\n",
       "</table>\n",
       "</div>"
      ],
      "text/plain": [
       "  Descriptor  Statistics         p  alpha                      Interpretation\n",
       "0       LogP     47142.0  0.000595   0.05  Different distribution (reject H0)"
      ]
     },
     "execution_count": 37,
     "metadata": {},
     "output_type": "execute_result"
    }
   ],
   "source": [
    "mannwhitney('LogP')"
   ]
  },
  {
   "cell_type": "markdown",
   "metadata": {},
   "source": [
    "##### Num H Donors"
   ]
  },
  {
   "cell_type": "code",
   "execution_count": 39,
   "metadata": {
    "scrolled": true
   },
   "outputs": [
    {
     "data": {
      "image/png": "[encoded data removed]",
      "text/plain": [
       "<Figure size 396x396 with 1 Axes>"
      ]
     },
     "metadata": {},
     "output_type": "display_data"
    }
   ],
   "source": [
    "plt.figure(figsize=(5.5, 5.5))\n",
    "\n",
    "sns.boxplot(x = 'class', y = 'NumHDonors', data = df_2class)\n",
    "\n",
    "plt.xlabel('Bioactivity class', fontsize=14, fontweight='bold')\n",
    "plt.ylabel('NumHDonors', fontsize=14, fontweight='bold')\n",
    "\n",
    "plt.savefig('plot_NumHDonors.pdf')\n"
   ]
  },
  {
   "cell_type": "code",
   "execution_count": 41,
   "metadata": {
    "scrolled": true
   },
   "outputs": [
    {
     "data": {
      "text/html": [
       "<div>\n",
       "<style scoped>\n",
       "    .dataframe tbody tr th:only-of-type {\n",
       "        vertical-align: middle;\n",
       "    }\n",
       "\n",
       "    .dataframe tbody tr th {\n",
       "        vertical-align: top;\n",
       "    }\n",
       "\n",
       "    .dataframe thead th {\n",
       "        text-align: right;\n",
       "    }\n",
       "</style>\n",
       "<table border=\"1\" class=\"dataframe\">\n",
       "  <thead>\n",
       "    <tr style=\"text-align: right;\">\n",
       "      <th></th>\n",
       "      <th>Descriptor</th>\n",
       "      <th>Statistics</th>\n",
       "      <th>p</th>\n",
       "      <th>alpha</th>\n",
       "      <th>Interpretation</th>\n",
       "    </tr>\n",
       "  </thead>\n",
       "  <tbody>\n",
       "    <tr>\n",
       "      <th>0</th>\n",
       "      <td>NumHDonors</td>\n",
       "      <td>43969.0</td>\n",
       "      <td>0.000001</td>\n",
       "      <td>0.05</td>\n",
       "      <td>Different distribution (reject H0)</td>\n",
       "    </tr>\n",
       "  </tbody>\n",
       "</table>\n",
       "</div>"
      ],
      "text/plain": [
       "   Descriptor  Statistics         p  alpha                      Interpretation\n",
       "0  NumHDonors     43969.0  0.000001   0.05  Different distribution (reject H0)"
      ]
     },
     "execution_count": 41,
     "metadata": {},
     "output_type": "execute_result"
    }
   ],
   "source": [
    "mannwhitney('NumHDonors')"
   ]
  },
  {
   "cell_type": "markdown",
   "metadata": {},
   "source": [
    "##### Num H Acceptors"
   ]
  },
  {
   "cell_type": "code",
   "execution_count": 42,
   "metadata": {},
   "outputs": [
    {
     "data": {
      "image/png": "[encoded data removed]",
      "text/plain": [
       "<Figure size 396x396 with 1 Axes>"
      ]
     },
     "metadata": {},
     "output_type": "display_data"
    }
   ],
   "source": [
    "plt.figure(figsize=(5.5, 5.5))\n",
    "\n",
    "sns.boxplot(x = 'class', y = 'NumHAcceptors', data = df_2class)\n",
    "\n",
    "plt.xlabel('Bioactivity class', fontsize=14, fontweight='bold')\n",
    "plt.ylabel('NumHAcceptors', fontsize=14, fontweight='bold')\n",
    "\n",
    "plt.savefig('plot_NumHAcceptors.pdf')"
   ]
  },
  {
   "cell_type": "code",
   "execution_count": 43,
   "metadata": {},
   "outputs": [
    {
     "data": {
      "text/html": [
       "<div>\n",
       "<style scoped>\n",
       "    .dataframe tbody tr th:only-of-type {\n",
       "        vertical-align: middle;\n",
       "    }\n",
       "\n",
       "    .dataframe tbody tr th {\n",
       "        vertical-align: top;\n",
       "    }\n",
       "\n",
       "    .dataframe thead th {\n",
       "        text-align: right;\n",
       "    }\n",
       "</style>\n",
       "<table border=\"1\" class=\"dataframe\">\n",
       "  <thead>\n",
       "    <tr style=\"text-align: right;\">\n",
       "      <th></th>\n",
       "      <th>Descriptor</th>\n",
       "      <th>Statistics</th>\n",
       "      <th>p</th>\n",
       "      <th>alpha</th>\n",
       "      <th>Interpretation</th>\n",
       "    </tr>\n",
       "  </thead>\n",
       "  <tbody>\n",
       "    <tr>\n",
       "      <th>0</th>\n",
       "      <td>NumHAcceptors</td>\n",
       "      <td>38629.0</td>\n",
       "      <td>5.413248e-12</td>\n",
       "      <td>0.05</td>\n",
       "      <td>Different distribution (reject H0)</td>\n",
       "    </tr>\n",
       "  </tbody>\n",
       "</table>\n",
       "</div>"
      ],
      "text/plain": [
       "      Descriptor  Statistics             p  alpha  \\\n",
       "0  NumHAcceptors     38629.0  5.413248e-12   0.05   \n",
       "\n",
       "                       Interpretation  \n",
       "0  Different distribution (reject H0)  "
      ]
     },
     "execution_count": 43,
     "metadata": {},
     "output_type": "execute_result"
    }
   ],
   "source": [
    "mannwhitney('NumHAcceptors')"
   ]
  },
  {
   "cell_type": "markdown",
   "metadata": {},
   "source": [
    "#### Summary of the Results\n",
    "\n",
    "All the Lipinski Descriptors showed a statistically significant difference between the active and inactive groups. "
   ]
  },
  {
   "cell_type": "markdown",
   "metadata": {},
   "source": [
    "# Zip Files"
   ]
  },
  {
   "cell_type": "code",
   "execution_count": 44,
   "metadata": {},
   "outputs": [
    {
     "name": "stdout",
     "output_type": "stream",
     "text": [
      "  adding: bioactivity_data.csv (164 bytes security) (deflated 92%)\n",
      "  adding: bioactivity_preprocessed_data.csv (164 bytes security) (deflated 81%)\n",
      "  adding: bioactivity_preprocessed_data_test.csv (164 bytes security) (deflated 80%)\n",
      "  adding: mannwhitneyu_LogP.csv (164 bytes security) (deflated 8%)\n",
      "  adding: mannwhitneyu_MW.csv (164 bytes security) (deflated 7%)\n",
      "  adding: mannwhitneyu_NumHAcceptors.csv (164 bytes security) (deflated 10%)\n",
      "  adding: mannwhitneyu_NumHDonors.csv (164 bytes security) (deflated 8%)\n",
      "  adding: mannwhitneyu_pIC50.csv (164 bytes security) (deflated 11%)\n",
      "  adding: plot_bioactivity_class.pdf (164 bytes security) (deflated 40%)\n",
      "  adding: plot_ic50.pdf (164 bytes security) (deflated 38%)\n",
      "  adding: plot_LogP.pdf (164 bytes security) (deflated 40%)\n",
      "  adding: plot_MW.pdf (164 bytes security) (deflated 41%)\n",
      "  adding: plot_MW_vs_LogP.pdf (164 bytes security) (deflated 5%)\n",
      "  adding: plot_NumHAcceptors.pdf (164 bytes security) (deflated 40%)\n",
      "  adding: plot_NumHDonors.pdf (164 bytes security) (deflated 39%)\n"
     ]
    }
   ],
   "source": [
    "! zip -r results.zip . -i *.csv *.pdf"
   ]
  }
 ],
 "metadata": {
  "kernelspec": {
   "display_name": "Python 3",
   "language": "python",
   "name": "python3"
  },
  "language_info": {
   "codemirror_mode": {
    "name": "ipython",
    "version": 3
   },
   "file_extension": ".py",
   "mimetype": "text/x-python",
   "name": "python",
   "nbconvert_exporter": "python",
   "pygments_lexer": "ipython3",
   "version": "3.6.12"
  }
 },
 "nbformat": 4,
 "nbformat_minor": 4
}
